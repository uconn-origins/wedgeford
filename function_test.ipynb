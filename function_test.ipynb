{
 "cells": [
  {
   "cell_type": "code",
   "execution_count": 1,
   "metadata": {},
   "outputs": [],
   "source": [
    "from pylab import *\n",
    "import radmc3dPy as rpy\n",
    "import numpy as np\n",
    "import os\n",
    "from scipy import interpolate\n",
    "from models import *\n",
    "from IPython import display"
   ]
  },
  {
   "cell_type": "code",
   "execution_count": 257,
   "metadata": {},
   "outputs": [
    {
     "name": "stdout",
     "output_type": "stream",
     "text": [
      "stellar_params: {'Ms': 1.0, 'Rs': 2.0, 'Ts': 4000.0, 'accrate': 1e-07, 'f': 0.01}\n",
      "disk_params: {'Mdisk': 0.010499999999999999, 'Mfrac': [0.005, 0.005], 'R0': [1, 1], 'Rout': [100, 50], 'H0': [1, 0.3], 'p': [-1, -1], 'fi': [0.25, 0.25], 'Rdisk': [105, 105]}\n",
      "envelope_params: {'Min': 3e-06, 'Rc': 105, 'rho_amb': 1e-25, 'rho_0': 3e-22, 'theta_min': 15, 'exf': 0.25, 'Rmax': 15000.0, 'd2g': 0.01, 'shock': True}\n",
      "grid_params: {'N': [400, 90, 90], 'min': [2, 0.19634954084936207, 0], 'max': [400, 1.5707963267948966, 6.283185307179586], 'spacing': ['log', 'lin', 'lin']}\n",
      "dust_params: {'rho_si': 3.1518, 'amin_chem': 0.06, 'amax_ism': 1.0, 'amin': [0.005, 0.005], 'amax': [1, 1000.0], 'apow': 3.5}\n",
      "RT_params: {'cr_model': 'ssx', 'zetacr': 1.3e-17, 'LX': 1e+30, 'G0': 1, 'viscous_heating': True}\n",
      "directory exists - will overwrite current model if you write to it!\n",
      "Loading from model directory:/Users/aleksandra/Desktop/wedgeford/noshear/\n",
      "Reading amr_grid.inp\n",
      "Reading wavelength_micron.inp\n"
     ]
    }
   ],
   "source": [
    "md0=load_model(outdir='/noshear/')"
   ]
  },
  {
   "cell_type": "code",
   "execution_count": null,
   "metadata": {},
   "outputs": [],
   "source": []
  },
  {
   "cell_type": "code",
   "execution_count": 258,
   "metadata": {},
   "outputs": [],
   "source": [
    "data_path = '/Users/aleksandra/Desktop/new_runs/'"
   ]
  },
  {
   "cell_type": "code",
   "execution_count": 283,
   "metadata": {},
   "outputs": [
    {
     "data": {
      "image/png": "[encoded data removed]",
      "text/plain": [
       "<Figure size 432x288 with 2 Axes>"
      ]
     },
     "metadata": {
      "needs_background": "light"
     },
     "output_type": "display_data"
    }
   ],
   "source": [
    "def disk_from_fargo(output,simdir,snapshot,fluid=0):\n",
    "    model = output.m\n",
    "    disk = fargo_disk(simdir,Mstar=model.star['Ms'])\n",
    "    R,THETA,PHI = model.make_grid()\n",
    "    X_C = R*np.sin(THETA)*np.cos(PHI)\n",
    "    Y_C = R*np.sin(THETA)*np.sin(PHI)\n",
    "    Z_C = R*np.cos(THETA)\n",
    "    R_CYL = np.sqrt(X_C**2 + Y_C**2)\n",
    "    sigma_2d = disk.get(time=snapshot,prop='sigma')\n",
    "    x_disk, y_disk = disk.xy()\n",
    "    if fluid < 2: #\n",
    "        sigma_2d_scaled = sigma_2d\n",
    "        if fluid == 1:\n",
    "            sigma_2d_scaled *= model.disk['Mfrac'][0]\n",
    "    else:\n",
    "        a1 = disk.dust['dust1']*sigma_2d/((pi/2.)*model.dust['rho_si'])\n",
    "        a2 = disk.dust['dust2']*sigma_2d/((pi/2.)*model.dust['rho_si'])\n",
    "        sigma_2d_1 = disk.get(time=snapshot,prop='sigma',fluid='dust1')\n",
    "        sigma_2d_2 = disk.get(time=snapshot,prop='sigma',fluid='dust2')\n",
    "        sigma_2d_tot = sigma_2d_1+sigma_2d_2\n",
    "        amin = model.dust['amin'][-1]*1e-4 #micron to cm\n",
    "        amax = model.dust['amax'][-1]*1e-4\n",
    "        powerlaw = model.dust['apow']\n",
    "        amid = (np.log10(a1) + np.log10(a2))/2.\n",
    "        mmid = np.log10(sigma_2d_2*((10**(amid)/a2)**(-(powerlaw-3))))\n",
    "        a0 = np.log10(amax)\n",
    "        m0 = mmid + (powerlaw - 3.)*(amid - a0)\n",
    "        sigma_2d_scaled = (10**m0)*((10**a0)**(powerlaw-3))*(amax**(-(powerlaw-4)) - amin**(-(powerlaw-4)))/(-(powerlaw-4))\n",
    "    sig_xy = interpolate.griddata((x_disk.flatten(),y_disk.flatten()), sigma_2d_scaled.T.flatten(), (X_C[-1,:,:],Y_C[-1,:,:]), method='linear',fill_value=0,rescale=True)\n",
    "    hmid = model.H(R_CYL,fluid=fluid)\n",
    "    rho_vol = np.clip(np.expand_dims(sig_xy,axis=0)/(sqrt(pi*2.)*hmid*AU),a_min=model.env['rho_amb'],a_max=None)*np.exp(-0.5*(Z_C/hmid)**2)\n",
    "    return rho_vol\n",
    "disk_from_fargo(md0,data_path+'gmaur_0005/',20,fluid=2)\n",
    "    "
   ]
  },
  {
   "cell_type": "code",
   "execution_count": 10,
   "metadata": {},
   "outputs": [],
   "source": [
    "def insert_hydrodust(output,small_hydro,large_hydro):\n",
    "    model = output.m\n",
    "    if os.getcwd() != model.outdir:\n",
    "            os.chdir(model.outdir)\n",
    "    output.data.readDustDens() #self.data.rhodust is now loaded in\n",
    "    small_dust_all0 = output.data.rhodust[:,:,:,0].swapaxes(0,1)\n",
    "    large_dust_all0 = output.data.rhodust[:,:,:,1].swapaxes(0,1)\n",
    "    small_dust_disk0 = model.rho_disk(fluid=1)\n",
    "    large_dust_disk0 = model.rho_disk(fluid=2)\n",
    "    small_dust = small_dust_all0 - small_dust_disk0 + small_hydro\n",
    "    large_dust = large_dust_all0 - large_dust_disk0 + large_hydro\n",
    "    Nr = np.prod(np.array(model.grid['N']))\n",
    "    with open(model.outdir+'dust_density.inp','w+') as f:\n",
    "        f.write('1\\n')                   # Format number\n",
    "        f.write('%d\\n'%(Nr))             # Number of cells\n",
    "        f.write('2\\n')                   # Number of dust species\n",
    "        for dust in [small_dust,large_dust]:\n",
    "            data = dust.swapaxes(0,1).ravel(order='F') # radmc assumes 'ij' indexing for some reason, Create a 1-D view, fortran-style indexing\n",
    "            data.tofile(f, sep='\\n', format=\"%13.6e\")\n",
    "            f.write('\\n')\n",
    "    f.close()\n",
    "    "
   ]
  }
 ],
 "metadata": {
  "kernelspec": {
   "display_name": "Python 3 (ipykernel)",
   "language": "python",
   "name": "python3"
  },
  "language_info": {
   "codemirror_mode": {
    "name": "ipython",
    "version": 3
   },
   "file_extension": ".py",
   "mimetype": "text/x-python",
   "name": "python",
   "nbconvert_exporter": "python",
   "pygments_lexer": "ipython3",
   "version": "3.11.5"
  }
 },
 "nbformat": 4,
 "nbformat_minor": 4
}
