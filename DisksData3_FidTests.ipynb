{
 "cells": [
  {
   "cell_type": "code",
   "execution_count": 56,
   "id": "77264a3c-aceb-4a1d-8734-f2d0d7299208",
   "metadata": {},
   "outputs": [],
   "source": [
    "import numpy as np\n",
    "import matplotlib.pyplot as plt\n",
    "import pandas as pd\n",
    "import math\n",
    "from scipy.interpolate import interp1d\n",
    "from matplotlib.colors import LogNorm"
   ]
  },
  {
   "cell_type": "code",
   "execution_count": 22,
   "id": "b1287126-8d6f-452e-9c68-a329555d1b05",
   "metadata": {},
   "outputs": [],
   "source": [
    "Mearth = 5.972e27 #g\n",
    "Msun = 1.989e+33 #g\n",
    "Lsun_cgs = 3.839e33 #ergs/s\n",
    "Rsun = 69e9 #cm\n",
    "EarthtoSun = Mearth/Msun\n",
    "G = 6.67e-8\n",
    "sigB = 5.670e-5 #erg/(cm^2 s K^4)"
   ]
  },
  {
   "cell_type": "code",
   "execution_count": 72,
   "id": "b0fb37f6-5f91-4979-b3b1-3b7960d24a5f",
   "metadata": {},
   "outputs": [
    {
     "data": {
      "text/plain": [
       "1.201005530417295e-08"
      ]
     },
     "execution_count": 72,
     "metadata": {},
     "output_type": "execute_result"
    }
   ],
   "source": [
    "Mdisk_Earth_med = 4e-3 # Mearth\n",
    "Mdisk_Sun_med = Mdisk_Earth_med*EarthtoSun\n",
    "Mdisk_Sun_med"
   ]
  },
  {
   "cell_type": "code",
   "execution_count": 4,
   "id": "e919ed1d-e873-46c0-ba5c-dd7a2065861e",
   "metadata": {},
   "outputs": [
    {
     "data": {
      "text/html": [
       "<div>\n",
       "<style scoped>\n",
       "    .dataframe tbody tr th:only-of-type {\n",
       "        vertical-align: middle;\n",
       "    }\n",
       "\n",
       "    .dataframe tbody tr th {\n",
       "        vertical-align: top;\n",
       "    }\n",
       "\n",
       "    .dataframe thead th {\n",
       "        text-align: right;\n",
       "    }\n",
       "</style>\n",
       "<table border=\"1\" class=\"dataframe\">\n",
       "  <thead>\n",
       "    <tr style=\"text-align: right;\">\n",
       "      <th></th>\n",
       "      <th>Region</th>\n",
       "      <th>Source</th>\n",
       "      <th>2MASS/SSTc2d</th>\n",
       "      <th>RA</th>\n",
       "      <th>Dec</th>\n",
       "      <th>EDR3_plx</th>\n",
       "      <th>EDR3_err_plx</th>\n",
       "      <th>EDR3_dist_pc</th>\n",
       "      <th>EDR3_RUWE</th>\n",
       "      <th>EDR3_Dist_PPVII</th>\n",
       "      <th>...</th>\n",
       "      <th>Mstar_B15_xs_DR3</th>\n",
       "      <th>logMacc_B15_xs_DR3</th>\n",
       "      <th>Mstar_S00_xs_DR3</th>\n",
       "      <th>logMacc_S00_xs_DR3</th>\n",
       "      <th>Mstar_Fei_xs_DR3</th>\n",
       "      <th>logMacc_Fei_xs_DR3</th>\n",
       "      <th>Mstar_PPVII</th>\n",
       "      <th>logMacc_PPVII</th>\n",
       "      <th>notes_Macc_PPVII</th>\n",
       "      <th>dist_PPVII</th>\n",
       "    </tr>\n",
       "  </thead>\n",
       "  <tbody>\n",
       "    <tr>\n",
       "      <th>0</th>\n",
       "      <td>Lupus</td>\n",
       "      <td>Sz65</td>\n",
       "      <td>J15392776-3446171</td>\n",
       "      <td>39:27.8</td>\n",
       "      <td>-34:46:17.577</td>\n",
       "      <td>6.5159</td>\n",
       "      <td>0.0253</td>\n",
       "      <td>153.47</td>\n",
       "      <td>1.417</td>\n",
       "      <td>153.47</td>\n",
       "      <td>...</td>\n",
       "      <td>0.661</td>\n",
       "      <td>-9.516</td>\n",
       "      <td>0.7250</td>\n",
       "      <td>-9.556</td>\n",
       "      <td>0.61</td>\n",
       "      <td>-9.48</td>\n",
       "      <td>0.610</td>\n",
       "      <td>-9.480</td>\n",
       "      <td>&lt;</td>\n",
       "      <td>153.47</td>\n",
       "    </tr>\n",
       "    <tr>\n",
       "      <th>1</th>\n",
       "      <td>Lupus</td>\n",
       "      <td>Sz66</td>\n",
       "      <td>J15392828-3446180</td>\n",
       "      <td>39:28.3</td>\n",
       "      <td>-34:46:18.450</td>\n",
       "      <td>6.4134</td>\n",
       "      <td>0.0269</td>\n",
       "      <td>155.92</td>\n",
       "      <td>1.2</td>\n",
       "      <td>155.92</td>\n",
       "      <td>...</td>\n",
       "      <td>0.291</td>\n",
       "      <td>-8.508</td>\n",
       "      <td>0.3125</td>\n",
       "      <td>-8.538</td>\n",
       "      <td>0.31</td>\n",
       "      <td>-8.54</td>\n",
       "      <td>0.291</td>\n",
       "      <td>-8.508</td>\n",
       "      <td>--</td>\n",
       "      <td>155.92</td>\n",
       "    </tr>\n",
       "    <tr>\n",
       "      <th>2</th>\n",
       "      <td>Lupus</td>\n",
       "      <td>J15430131-3409153</td>\n",
       "      <td>J15430131-3409153</td>\n",
       "      <td>43:01.3</td>\n",
       "      <td>-34:09:15.400</td>\n",
       "      <td>--</td>\n",
       "      <td>--</td>\n",
       "      <td>--</td>\n",
       "      <td>--</td>\n",
       "      <td>158.00</td>\n",
       "      <td>...</td>\n",
       "      <td>-99.000</td>\n",
       "      <td>--</td>\n",
       "      <td>-99.0000</td>\n",
       "      <td>--</td>\n",
       "      <td>-99.00</td>\n",
       "      <td>-99.00</td>\n",
       "      <td>-99.000</td>\n",
       "      <td>-99.000</td>\n",
       "      <td>--</td>\n",
       "      <td>-99.00</td>\n",
       "    </tr>\n",
       "    <tr>\n",
       "      <th>3</th>\n",
       "      <td>Lupus</td>\n",
       "      <td>J15430227-3444059</td>\n",
       "      <td>J15430227-3444059</td>\n",
       "      <td>43:02.3</td>\n",
       "      <td>-34:44:06.200</td>\n",
       "      <td>-0.0997</td>\n",
       "      <td>0.2261</td>\n",
       "      <td>-10030.09</td>\n",
       "      <td>1.018</td>\n",
       "      <td>158.00</td>\n",
       "      <td>...</td>\n",
       "      <td>-99.000</td>\n",
       "      <td>--</td>\n",
       "      <td>-99.0000</td>\n",
       "      <td>--</td>\n",
       "      <td>-99.00</td>\n",
       "      <td>-99.00</td>\n",
       "      <td>-99.000</td>\n",
       "      <td>-99.000</td>\n",
       "      <td>--</td>\n",
       "      <td>-99.00</td>\n",
       "    </tr>\n",
       "    <tr>\n",
       "      <th>4</th>\n",
       "      <td>Lupus</td>\n",
       "      <td>J15445789-3423392</td>\n",
       "      <td>J15445789-3423392</td>\n",
       "      <td>44:57.9</td>\n",
       "      <td>-34:23:39.500</td>\n",
       "      <td>6.4956</td>\n",
       "      <td>0.0772</td>\n",
       "      <td>153.95</td>\n",
       "      <td>1.201</td>\n",
       "      <td>153.95</td>\n",
       "      <td>...</td>\n",
       "      <td>0.087</td>\n",
       "      <td>-10.68</td>\n",
       "      <td>0.1000</td>\n",
       "      <td>-10.74</td>\n",
       "      <td>0.09</td>\n",
       "      <td>-10.70</td>\n",
       "      <td>0.087</td>\n",
       "      <td>-10.680</td>\n",
       "      <td>--</td>\n",
       "      <td>153.95</td>\n",
       "    </tr>\n",
       "  </tbody>\n",
       "</table>\n",
       "<p>5 rows × 63 columns</p>\n",
       "</div>"
      ],
      "text/plain": [
       "  Region             Source       2MASS/SSTc2d       RA            Dec  \\\n",
       "0  Lupus               Sz65  J15392776-3446171  39:27.8  -34:46:17.577   \n",
       "1  Lupus               Sz66  J15392828-3446180  39:28.3  -34:46:18.450   \n",
       "2  Lupus  J15430131-3409153  J15430131-3409153  43:01.3  -34:09:15.400   \n",
       "3  Lupus  J15430227-3444059  J15430227-3444059  43:02.3  -34:44:06.200   \n",
       "4  Lupus  J15445789-3423392  J15445789-3423392  44:57.9  -34:23:39.500   \n",
       "\n",
       "  EDR3_plx EDR3_err_plx EDR3_dist_pc EDR3_RUWE  EDR3_Dist_PPVII  ...  \\\n",
       "0   6.5159       0.0253       153.47     1.417           153.47  ...   \n",
       "1   6.4134       0.0269       155.92       1.2           155.92  ...   \n",
       "2       --           --           --        --           158.00  ...   \n",
       "3  -0.0997       0.2261    -10030.09     1.018           158.00  ...   \n",
       "4   6.4956       0.0772       153.95     1.201           153.95  ...   \n",
       "\n",
       "  Mstar_B15_xs_DR3 logMacc_B15_xs_DR3  Mstar_S00_xs_DR3 logMacc_S00_xs_DR3  \\\n",
       "0            0.661             -9.516            0.7250             -9.556   \n",
       "1            0.291             -8.508            0.3125             -8.538   \n",
       "2          -99.000                 --          -99.0000                 --   \n",
       "3          -99.000                 --          -99.0000                 --   \n",
       "4            0.087             -10.68            0.1000             -10.74   \n",
       "\n",
       "  Mstar_Fei_xs_DR3 logMacc_Fei_xs_DR3 Mstar_PPVII logMacc_PPVII  \\\n",
       "0             0.61              -9.48       0.610        -9.480   \n",
       "1             0.31              -8.54       0.291        -8.508   \n",
       "2           -99.00             -99.00     -99.000       -99.000   \n",
       "3           -99.00             -99.00     -99.000       -99.000   \n",
       "4             0.09             -10.70       0.087       -10.680   \n",
       "\n",
       "  notes_Macc_PPVII dist_PPVII  \n",
       "0                <     153.47  \n",
       "1               --     155.92  \n",
       "2               --     -99.00  \n",
       "3               --     -99.00  \n",
       "4               --     153.95  \n",
       "\n",
       "[5 rows x 63 columns]"
      ]
     },
     "execution_count": 4,
     "metadata": {},
     "output_type": "execute_result"
    }
   ],
   "source": [
    "ptable = pd.read_csv('/Users/eduardo.aguirre_serrata/Documents/GitHub/wedgeford/DiskLibrary/PP7-Surveys_2022-10-19_PPVII_website.csv')\n",
    "ptable.head()"
   ]
  },
  {
   "cell_type": "code",
   "execution_count": 8,
   "id": "c41ea00a-4438-49bb-ae22-c62df46b25c2",
   "metadata": {},
   "outputs": [],
   "source": [
    "Mstar_ = np.array(ptable.Mstar_PPVII)\n",
    "Lstar_ = ptable.Lstar_xs_DR3 #erg/s\n",
    "Teff_ = ptable.Teff_HH14\n",
    "Mstar_diskII = np.array(ptable[ptable['Disk'] == 'II']['Mstar_PPVII'])\n",
    "\n",
    "\n",
    "\n",
    "Mstar_clean = []\n",
    "Lstar_clean = []\n",
    "Teff_clean = []\n",
    "Mstar_diskII_clean = []\n",
    "\n",
    "\n",
    "data_raw = [Mstar_, Mstar_diskII,Lstar_,Teff_]\n",
    "data_clean = [Mstar_clean, Mstar_diskII_clean,Lstar_clean, Teff_clean]\n",
    "\n",
    "\n",
    "for raw, clean in zip(data_raw, data_clean):\n",
    "    for item in raw:\n",
    "        if str(item).startswith('<'):   #quite a few of the dust values have a \"<\" so we must get rid of it to turn our values into floats\n",
    "            item = str(item).strip('<')\n",
    "        try:\n",
    "            flitem = float(item)\n",
    "        except:\n",
    "            flitem = -99\n",
    "        clean.append(flitem)\n",
    "    for index,item in enumerate(clean):\n",
    "        if np.isnan(item):\n",
    "            clean[index] = -99"
   ]
  },
  {
   "cell_type": "code",
   "execution_count": 10,
   "id": "ce9201f6-8b20-44f1-bd8e-e9475da97052",
   "metadata": {},
   "outputs": [
    {
     "name": "stdout",
     "output_type": "stream",
     "text": [
      "(891,) (891,)\n"
     ]
    }
   ],
   "source": [
    "print(np.shape(Lstar_clean), np.shape(Teff_clean))"
   ]
  },
  {
   "cell_type": "code",
   "execution_count": 14,
   "id": "b715959f-17fa-4438-b566-64fa16b3840b",
   "metadata": {},
   "outputs": [
    {
     "name": "stdout",
     "output_type": "stream",
     "text": [
      "(550,) (550,)\n"
     ]
    }
   ],
   "source": [
    "#Cleaning Cell\n",
    "\n",
    "Mstar_series = pd.Series(data=Mstar_clean, index=Mstar_clean)\n",
    "Mstar_clean_clean = np.array(Mstar_series.drop(labels=-99))\n",
    "\n",
    "Lstar_series = pd.Series(data=Lstar_clean, index=Lstar_clean)\n",
    "Lstar_clean_clean = np.array(Lstar_series.drop(labels=-99))\n",
    "\n",
    "Teff_series = pd.Series(data=Teff_clean, index=Teff_clean)\n",
    "Teff_clean_clean = np.array(Teff_series.drop(labels=-99))\n",
    "\n",
    "print(np.shape(Lstar_clean_clean), np.shape(Teff_clean_clean))"
   ]
  },
  {
   "cell_type": "code",
   "execution_count": 104,
   "id": "4aa042c5-f99a-4bc2-8539-00b763377f78",
   "metadata": {},
   "outputs": [],
   "source": [
    "#Star Radius calculator.\n",
    "Lstar_cgs = np.array(Lstar_clean_clean*Lsun_cgs)\n",
    "def Rstar_(Tstar, Lstar):\n",
    "    T4 = Tstar**4\n",
    "    denom = np.array(4*math.pi*sigB*T4)\n",
    "    Rstar_ = (np.sqrt(Lstar/denom))/Rsun\n",
    "    return Rstar_\n",
    "\n",
    "T_input = 3500\n",
    "L_interp = interp1d(Teff_clean_clean, Lstar_cgs)\n",
    "L_new = np.array(L_interp(T_input))\n",
    "Rstar_sample = Rstar_(T_input, L_new)\n",
    "\n",
    "Rstar_sample = Rstar_sample[Rstar_sample < 10]   #ASK HOW TO CONDENSE INTO ONE LINE!\n",
    "Rstar_sample_clean = Rstar_sample[Rstar_sample > 1.4]\n",
    "\n",
    "\n",
    "\n",
    "# print('Rstar_a =',Rstar_sample_clean) #for arrays\n",
    "\n",
    "# Rstar_sample = Rstar_(Teff_clean_clean, Lstar_cgs)\n",
    "# R_new = Rstar_(3500, L_new)\n",
    "# print(R_new, L_new)\n",
    "\n",
    "# print(L_new/Lsun_cgs)"
   ]
  },
  {
   "cell_type": "code",
   "execution_count": 62,
   "id": "78309dd8-1bd5-4bab-ac92-358bae4e53db",
   "metadata": {},
   "outputs": [
    {
     "name": "stdout",
     "output_type": "stream",
     "text": [
      "2.8445107405977423\n"
     ]
    },
    {
     "data": {
      "image/png": "[encoded data removed]",
      "text/plain": [
       "<Figure size 640x480 with 1 Axes>"
      ]
     },
     "metadata": {},
     "output_type": "display_data"
    }
   ],
   "source": [
    "nbins = 15\n",
    "Rstar_bins = np.linspace(-1,8,nbins) #(0, 2.2)\n",
    "plt.hist(Rstar_sample_clean, bins=Rstar_bins)\n",
    "plt.title('Rstar')\n",
    "print(np.mean(Rstar_sample_clean))"
   ]
  }
 ],
 "metadata": {
  "kernelspec": {
   "display_name": "Python 3 (ipykernel)",
   "language": "python",
   "name": "python3"
  },
  "language_info": {
   "codemirror_mode": {
    "name": "ipython",
    "version": 3
   },
   "file_extension": ".py",
   "mimetype": "text/x-python",
   "name": "python",
   "nbconvert_exporter": "python",
   "pygments_lexer": "ipython3",
   "version": "3.12.4"
  }
 },
 "nbformat": 4,
 "nbformat_minor": 5
}
